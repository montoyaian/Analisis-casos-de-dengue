{
 "cells": [
  {
   "cell_type": "markdown",
   "metadata": {},
   "source": [
    "# ***Modelo de clasificación de casos alarmantes y no alarmantes de Dengue en el municipio de Casanare***"
   ]
  },
  {
   "cell_type": "markdown",
   "metadata": {},
   "source": [
    "Para analizar la situación del dengue en el municipio de Casanare, se ha seleccionado un dataset que recoge los casos reportados desde el 23 de octubre de 2022. En este dataset, los casos están clasificados entre aquellos con síntomas alarmantes y aquellos sin riesgo inmediato. Esta información nos permite tener una visión más clara del impacto y la gravedad de los casos en la región. Cabe destacar que la última actualización de este dataset fue el 17 de febrero de 2023, lo que garantiza que estamos trabajando con datos recientes y relevantes para nuestra evaluación. (Fuente: Departamento de Epidemiología, ESE Salud Yopal, 2023)."
   ]
  },
  {
   "cell_type": "markdown",
   "metadata": {},
   "source": [
    "***Propuesta***\n",
    "\n",
    "Como propuesta para el concurso de Datos a la U, vamos a desarrollar un modelo de *Machine learning* que permita identificar de manera eficaz los casos que requieren atención inmediata. Esta herramienta no solo busca apoyar a los profesionales de la salud en la toma de decisiones, sino que también contribuirá a una respuesta más ágil y coordinada frente a brotes de dengue. Al facilitar una intervención temprana, podemos mejorar considerablemente la gestión de la salud pública y salvar vidas.\n"
   ]
  },
  {
   "cell_type": "markdown",
   "metadata": {},
   "source": [
    "## ***Importaciones***"
   ]
  },
  {
   "cell_type": "code",
   "execution_count": 77,
   "metadata": {},
   "outputs": [],
   "source": [
    "import pandas as pd\n",
    "import matplotlib.pyplot as plt\n",
    "from sklearn.model_selection import train_test_split\n",
    "from sklearn.model_selection import cross_val_score\n",
    "from sklearn.metrics import accuracy_score, precision_score, recall_score, f1_score\n",
    "import seaborn as sns\n",
    "from sklearn.discriminant_analysis import StandardScaler\n",
    "from sklearn.ensemble import RandomForestClassifier\n",
    "from sklearn.linear_model import SGDClassifier\n",
    "from sklearn.metrics import confusion_matrix\n",
    "from sklearn.svm import SVC\n",
    "import os\n",
    "import sys\n",
    "import anthropic\n",
    "from reportlab.lib.pagesizes import letter\n",
    "from reportlab.pdfgen import canvas\n",
    "from reportlab.lib.colors import black, gray,white\n",
    "from datetime import date"
   ]
  },
  {
   "cell_type": "markdown",
   "metadata": {},
   "source": [
    "## ***Estudio del Dataset***"
   ]
  },
  {
   "cell_type": "code",
   "execution_count": null,
   "metadata": {},
   "outputs": [],
   "source": [
    "sep = os.path.sep\n",
    "dir_actual = os.path.abspath('')\n",
    "PATH = sep.join(dir_actual.split(sep)[:-1])\n",
    "DIR_DATA = PATH + '{0}Dengue{0}Data{0}'.format(os.sep)\n",
    "sys.path.append(PATH) if PATH not in list(sys.path) else None\n",
    "\n",
    "# Crear el directorio si no existe\n",
    "if not os.path.exists(DIR_DATA):\n",
    "    os.makedirs(DIR_DATA)  \n",
    "    print(f\"Carpeta creada en la ruta: {DIR_DATA}\")\n",
    "else:\n",
    "    print(\"La carpeta ya existe:\", DIR_DATA)\n",
    "    \n",
    "DIR_DATA"
   ]
  },
  {
   "cell_type": "code",
   "execution_count": 6,
   "metadata": {},
   "outputs": [],
   "source": [
    "filename = DIR_DATA + 'Casos_de_Dengue.csv'\n",
    "data = pd.read_csv(filename, sep = ',')"
   ]
  },
  {
   "cell_type": "markdown",
   "metadata": {},
   "source": [
    "***Procedemos a observar el dataset***"
   ]
  },
  {
   "cell_type": "code",
   "execution_count": null,
   "metadata": {},
   "outputs": [],
   "source": [
    "data"
   ]
  },
  {
   "cell_type": "code",
   "execution_count": null,
   "metadata": {},
   "outputs": [],
   "source": [
    "data.info()"
   ]
  },
  {
   "cell_type": "markdown",
   "metadata": {},
   "source": [
    "Observamos que el dataset ostenta 9 variables de tipo numerico y 45 variables de tipo objeto. El Dataset no alberga valores nulos."
   ]
  },
  {
   "cell_type": "code",
   "execution_count": null,
   "metadata": {},
   "outputs": [],
   "source": [
    "data.columns[data.isnull().any()]"
   ]
  },
  {
   "cell_type": "code",
   "execution_count": null,
   "metadata": {},
   "outputs": [],
   "source": [
    "categorical_cols = data.select_dtypes(include=['object']).columns.tolist() #Guardamos en \"categorical_ cols\" las variables categoricas.\n",
    "\n",
    "\n",
    "print(\"Categorical Columns:\")\n",
    "for col in categorical_cols:\n",
    "    print(col)"
   ]
  },
  {
   "cell_type": "markdown",
   "metadata": {},
   "source": [
    "Removemos del dataset las variables categoricas que determinamos no aportan mucho al analisis. Esto lo hacemos para mejorar el rendimiento y la interpretabilidad del modelo."
   ]
  },
  {
   "cell_type": "code",
   "execution_count": 11,
   "metadata": {},
   "outputs": [],
   "source": [
    "removed_categories = ['orden', 'semana', 'año', 'cod_pre', 'cod_sub', 'cod_pais_o', \n",
    "                      'cod_dpto_o', 'cod_mun_o', 'fec_not', 'ini_sin_', 'fec_con_', \n",
    "                      'nombre_nacionalidad', 'ndep_resi', 'nmun_resi', 'fuente_', \n",
    "                      'conducta', 'nom_eve', 'nom_upgd', 'fecha_nto_', \n",
    "                      'fec_arc_xl', 'fec_aju_', 'desplazami'] \n",
    "\n",
    "for variable in removed_categories:\n",
    "    if variable in categorical_cols: \n",
    "        categorical_cols.remove(variable)"
   ]
  },
  {
   "cell_type": "code",
   "execution_count": 12,
   "metadata": {},
   "outputs": [],
   "source": [
    "data = data.drop(columns = removed_categories)"
   ]
  },
  {
   "cell_type": "code",
   "execution_count": null,
   "metadata": {},
   "outputs": [],
   "source": [
    "categorical_cols"
   ]
  },
  {
   "cell_type": "markdown",
   "metadata": {},
   "source": [
    "Convertimos los datos categoricos en representaciones numericas, esto con el objetivo de facilitar el entrenamiento del modelo. Para ello usaremos una funcion de \"pandas\": \"factorize\". Sobreescribiendo ***data[categorie]*** con los valores numéricos."
   ]
  },
  {
   "cell_type": "code",
   "execution_count": 14,
   "metadata": {},
   "outputs": [],
   "source": [
    "for categorie in categorical_cols:\n",
    "    data[categorie], tld_enum = pd.factorize(data[categorie]) #Convertimos los valores categoricos en valores numericos enteros. "
   ]
  },
  {
   "cell_type": "code",
   "execution_count": null,
   "metadata": {},
   "outputs": [],
   "source": [
    "print(\"\\nCategorías originales y su asignación numérica:\")\n",
    "for i, category in enumerate(tld_enum):\n",
    "    print(f\"{category} -> {i}\")"
   ]
  },
  {
   "cell_type": "markdown",
   "metadata": {},
   "source": [
    "Asi quedaria nuestro el Dataset al extraer las variables fundamentales para el entrenamiento del modelo"
   ]
  },
  {
   "cell_type": "code",
   "execution_count": null,
   "metadata": {},
   "outputs": [],
   "source": [
    "data"
   ]
  },
  {
   "cell_type": "markdown",
   "metadata": {},
   "source": [
    "## ***Entrenamiento del modelo***"
   ]
  },
  {
   "cell_type": "markdown",
   "metadata": {},
   "source": [
    "***Nuestro conjunto de datos se dividirá de la siguiente manera***:\n",
    "\n",
    "- ***70% para el entrenamiento***: Este segmento será utilizado para enseñar al modelo a reconocer patrones en los casos de Dengue con sintomas alarmantes y no alarmantes\n",
    "- ***20% para pruebas (testing)***: Esta parte se reservará para evaluar el rendimiento del modelo, verificando su capacidad para realizar predicciones con casos nuevos.\n",
    "- ***10% para validación***: Este subconjunto se usará durante el proceso de ajuste de hiperparámetros y validación cruzada, asegurando que el modelo generalice correctamente y evite el sobreajuste.\n",
    "\n",
    "\n"
   ]
  },
  {
   "cell_type": "code",
   "execution_count": 17,
   "metadata": {},
   "outputs": [],
   "source": [
    "data_validation, data_temp = train_test_split(data, test_size=0.9, random_state=42)"
   ]
  },
  {
   "cell_type": "code",
   "execution_count": 18,
   "metadata": {},
   "outputs": [],
   "source": [
    "train_size = 0.7 / 0.9  # Ajustar la proporción relativa dentro del 90%\n",
    "data_train, data_test = train_test_split(data_temp, test_size=1-train_size, random_state=42)"
   ]
  },
  {
   "cell_type": "code",
   "execution_count": null,
   "metadata": {},
   "outputs": [],
   "source": [
    "train_filename = DIR_DATA + 'Casos_de_Dengue_train.csv'\n",
    "test_filename = DIR_DATA + 'Casos_de_Dengue_test.csv'\n",
    "validation_filename = DIR_DATA + 'Casos_de_Dengue_validation.csv'\n",
    "\n",
    "data_train.to_csv(train_filename, index=False)\n",
    "data_test.to_csv(test_filename, index=False)\n",
    "data_validation.to_csv(validation_filename, index=False)\n",
    "\n",
    "print(f\"Datos de entrenamiento guardados en: {train_filename}\")\n",
    "print(f\"Datos de prueba guardados en: {test_filename}\")\n",
    "print(f\"Datos de validación guardados en: {validation_filename}\")"
   ]
  },
  {
   "cell_type": "code",
   "execution_count": null,
   "metadata": {},
   "outputs": [],
   "source": [
    "#Comprobams la distribución de los dataset\n",
    "print(f\"Entrenamiento: {len(data_train)} ({len(data_train) / len(data) * 100:.2f}%)\")\n",
    "print(f\"Prueba: {len(data_test)} ({len(data_test) / len(data) * 100:.2f}%)\")\n",
    "print(f\"Validación: {len(data_validation)} ({len(data_validation) / len(data) * 100:.2f}%)\")"
   ]
  },
  {
   "cell_type": "code",
   "execution_count": 21,
   "metadata": {},
   "outputs": [],
   "source": [
    "x_train = data_train.drop(columns=['clasfinal'])  \n",
    "y_train = data_train['clasfinal']"
   ]
  },
  {
   "cell_type": "code",
   "execution_count": 22,
   "metadata": {},
   "outputs": [],
   "source": [
    "x_test = data_test.drop(columns=['clasfinal'])  \n",
    "y_test = data_test['clasfinal']"
   ]
  },
  {
   "cell_type": "code",
   "execution_count": 23,
   "metadata": {},
   "outputs": [],
   "source": [
    "x_validation = data_validation.drop(columns=['clasfinal'])  \n",
    "y_validation = data_validation['clasfinal']"
   ]
  },
  {
   "cell_type": "code",
   "execution_count": 24,
   "metadata": {},
   "outputs": [],
   "source": [
    "#Normalizamos los datos\n",
    "scaler = StandardScaler()\n",
    "x_train_normalized = scaler.fit_transform(x_train)\n",
    "x_test_normalized = scaler.transform(x_test)\n",
    "x_validation_normalized = scaler.transform(x_validation)"
   ]
  },
  {
   "cell_type": "markdown",
   "metadata": {},
   "source": [
    "***Escogimos tres modelos de machine learning para poder probar cual viene mejor para este caso: RandomForest, SGDClassifier y SVC***"
   ]
  },
  {
   "cell_type": "code",
   "execution_count": null,
   "metadata": {},
   "outputs": [],
   "source": [
    "\n",
    "rf_model = RandomForestClassifier(n_estimators=150,max_depth=10,random_state=42)\n",
    "rf_model.fit(x_train_normalized, y_train)"
   ]
  },
  {
   "cell_type": "code",
   "execution_count": null,
   "metadata": {},
   "outputs": [],
   "source": [
    "sgd_model = SGDClassifier(loss='log_loss', penalty='elasticnet', alpha=0.01, max_iter=1000)\n",
    "sgd_model.fit(x_train_normalized, y_train)"
   ]
  },
  {
   "cell_type": "code",
   "execution_count": null,
   "metadata": {},
   "outputs": [],
   "source": [
    "svm_model = SVC(kernel='poly', C=1.0, random_state=42) \n",
    "svm_model.fit(x_train_normalized, y_train)"
   ]
  },
  {
   "cell_type": "markdown",
   "metadata": {},
   "source": [
    "## ***Cross validation***\n"
   ]
  },
  {
   "cell_type": "markdown",
   "metadata": {},
   "source": [
    "Para comprobar si los modelo son capaces de generalizar datos nuevos, los someteremos a una validación cruzada."
   ]
  },
  {
   "cell_type": "code",
   "execution_count": 28,
   "metadata": {},
   "outputs": [],
   "source": [
    "cv_folds = 5"
   ]
  },
  {
   "cell_type": "code",
   "execution_count": null,
   "metadata": {},
   "outputs": [],
   "source": [
    "rf_scores = cross_val_score(rf_model, x_train_normalized, y_train, cv=cv_folds)\n",
    "print(\"Cross Validation: RandomForest\")\n",
    "print(rf_scores.mean())"
   ]
  },
  {
   "cell_type": "code",
   "execution_count": null,
   "metadata": {},
   "outputs": [],
   "source": [
    "sdg_scores = cross_val_score(sgd_model, x_train_normalized, y_train, cv=cv_folds)\n",
    "print(\"Cross Validation: SGD\")\n",
    "print(sdg_scores.mean())"
   ]
  },
  {
   "cell_type": "code",
   "execution_count": null,
   "metadata": {},
   "outputs": [],
   "source": [
    "svm_scores = cross_val_score(svm_model, x_train_normalized, y_train, cv=cv_folds)\n",
    "print(\"Cross Validation: SVM\")\n",
    "print(svm_scores.mean())"
   ]
  },
  {
   "cell_type": "markdown",
   "metadata": {},
   "source": [
    "Ahora, probaremos cada modelo con el dataset de prueba, y el escogido sera el que obtenga mejores resultados en las metricas medidas."
   ]
  },
  {
   "cell_type": "markdown",
   "metadata": {},
   "source": [
    "***RandomForest***"
   ]
  },
  {
   "cell_type": "code",
   "execution_count": 32,
   "metadata": {},
   "outputs": [],
   "source": [
    "y_predRF = rf_model.predict(x_test_normalized)\n",
    "RF_model_accuracy = accuracy_score(y_test,y_predRF)\n",
    "RF_precision = precision_score(y_test,y_predRF)\n",
    "RF_recall = recall_score(y_test,y_predRF)\n",
    "RF_f1 = f1_score(y_test,y_predRF)"
   ]
  },
  {
   "cell_type": "markdown",
   "metadata": {},
   "source": [
    "***Descenso Estocástico del Gradiente (SGD)***"
   ]
  },
  {
   "cell_type": "code",
   "execution_count": 33,
   "metadata": {},
   "outputs": [],
   "source": [
    "y_predSDG = sgd_model.predict(x_test_normalized)\n",
    "SDG_model_accuracy = accuracy_score(y_test,y_predSDG)\n",
    "SDG_precision = precision_score(y_test,y_predSDG)\n",
    "SDG_recall = recall_score(y_test,y_predSDG)\n",
    "SDG_f1 = f1_score(y_test,y_predSDG)\n"
   ]
  },
  {
   "cell_type": "markdown",
   "metadata": {},
   "source": [
    "***Máquinas de Soporte Vectorial (SVM)***"
   ]
  },
  {
   "cell_type": "code",
   "execution_count": 34,
   "metadata": {},
   "outputs": [],
   "source": [
    "y_predSVM = svm_model.predict(x_test_normalized)\n",
    "SVM_model_accuracy = accuracy_score(y_test,y_predRF)\n",
    "SVM_precision = precision_score(y_test,y_predRF)\n",
    "SVM_recall = recall_score(y_test,y_predRF)\n",
    "SVM_f1 = f1_score(y_test,y_predRF)"
   ]
  },
  {
   "cell_type": "markdown",
   "metadata": {},
   "source": [
    "## ***Desempeño de cada modelo***"
   ]
  },
  {
   "cell_type": "code",
   "execution_count": null,
   "metadata": {},
   "outputs": [],
   "source": [
    "print(\"Data Evaluation: RandomForest\")\n",
    "print(f\"Accuracy: {RF_model_accuracy}\")\n",
    "print(f\"Precision: {RF_precision}\")\n",
    "print(f\"Recall: {RF_recall}\")\n",
    "print(f\"F1 Score: {RF_f1}\") "
   ]
  },
  {
   "cell_type": "code",
   "execution_count": null,
   "metadata": {},
   "outputs": [],
   "source": [
    "print(\"Data Evaluation: SGD\")\n",
    "print(f\"Accuracy: {SDG_model_accuracy}\")\n",
    "print(f\"Precision: {SDG_precision}\")\n",
    "print(f\"Recall: {SDG_recall}\")\n",
    "print(f\"F1 Score: {SDG_f1}\")"
   ]
  },
  {
   "cell_type": "code",
   "execution_count": null,
   "metadata": {},
   "outputs": [],
   "source": [
    "print(\"Data Evaluation: SVM\")\n",
    "print(f\"Accuracy: {SVM_model_accuracy}\")\n",
    "print(f\"Precision: {SVM_precision}\")\n",
    "print(f\"Recall: {SVM_recall}\")\n",
    "print(f\"F1 Score: {SVM_f1}\")"
   ]
  },
  {
   "cell_type": "code",
   "execution_count": null,
   "metadata": {},
   "outputs": [],
   "source": [
    "import matplotlib.pyplot as plt\n",
    "import numpy as np\n",
    "\n",
    "# Resultados de ejemplo (sustituye por los valores reales)\n",
    "metrics = ['Accuracy', 'Precision', 'Recall', 'F1 Score']\n",
    "random_forest = [RF_model_accuracy, RF_precision, RF_recall, RF_f1]\n",
    "sgd = [SDG_model_accuracy, SDG_precision, SDG_recall, SDG_f1]\n",
    "svm = [SVM_model_accuracy, SVM_precision, SVM_recall, SVM_f1]\n",
    "\n",
    "# Configuración del gráfico\n",
    "x = np.arange(len(metrics))  # Posiciones de las métricas\n",
    "width = 0.25  # Ancho de las barras\n",
    "\n",
    "# Creación de la figura\n",
    "fig, ax = plt.subplots(figsize=(12, 7))\n",
    "\n",
    "# Barras para cada modelo\n",
    "bars_rf = ax.bar(x - width, random_forest, width, label='Random Forest', color='skyblue')\n",
    "bars_sgd = ax.bar(x, sgd, width, label='SGD', color='salmon')\n",
    "bars_svm = ax.bar(x + width, svm, width, label='SVM', color='lightgreen')\n",
    "\n",
    "# Añadir valores a las barras\n",
    "for bars in [bars_rf, bars_sgd, bars_svm]:\n",
    "    for bar in bars:\n",
    "        height = bar.get_height()\n",
    "        ax.annotate(f'{height:.2f}',  # Mostrar valor con 2 decimales\n",
    "                    xy=(bar.get_x() + bar.get_width() / 2, height),\n",
    "                    xytext=(0, 3),  # Desplazamiento vertical\n",
    "                    textcoords=\"offset points\",\n",
    "                    ha='center', va='bottom', fontsize=10, color='black')\n",
    "\n",
    "# Etiquetas y detalles del gráfico\n",
    "ax.set_xlabel('Métricas', fontsize=12)\n",
    "ax.set_ylabel('Valores', fontsize=12)\n",
    "ax.set_title('Comparación de Modelos con Métricas', fontsize=14)\n",
    "ax.set_xticks(x)\n",
    "ax.set_xticklabels(metrics, fontsize=11)\n",
    "ax.legend()\n",
    "\n",
    "# Mostrar el gráfico\n",
    "plt.tight_layout()\n",
    "plt.show()\n",
    "\n"
   ]
  },
  {
   "cell_type": "markdown",
   "metadata": {},
   "source": [
    "## ***Matrices de confusion***"
   ]
  },
  {
   "cell_type": "code",
   "execution_count": 39,
   "metadata": {},
   "outputs": [],
   "source": [
    "\n",
    "import matplotlib.pyplot as plt\n",
    "import seaborn as sns\n",
    "from sklearn.metrics import confusion_matrix\n",
    "\n",
    "def plot_confusion_matrix(y_test, y_pred, title):\n",
    "    cm = confusion_matrix(y_test, y_pred)\n",
    "    \n",
    "    # Calcular los porcentajes\n",
    "    total = cm.sum()\n",
    "    cm_percentage = cm / total * 100\n",
    "\n",
    "    # Crear la gráfica\n",
    "    plt.figure(figsize=(5, 5))\n",
    "    sns.heatmap(cm_percentage, annot=True, fmt=\".2f\", cmap=\"Blues\", cbar=False)\n",
    "    plt.xlabel('Predicción')\n",
    "    plt.ylabel('Real')\n",
    "    plt.title(title)\n",
    "    plt.show()\n",
    "\n",
    "    # Mostrar los valores de TP, TN, FP, FN\n",
    "    TP = cm[1, 1]\n",
    "    TN = cm[0, 0]\n",
    "    FP = cm[0, 1]\n",
    "    FN = cm[1, 0]\n",
    "    \n",
    "    print(f\"Verdaderos Positivos (TP): {TP} ({(TP/total)*100:.2f}%)\")\n",
    "    print(f\"Verdaderos Negativos (TN): {TN} ({(TN/total)*100:.2f}%)\")\n",
    "    print(f\"Falsos Positivos (FP): {FP} ({(FP/total)*100:.2f}%)\")\n",
    "    print(f\"Falsos Negativos (FN): {FN} ({(FN/total)*100:.2f}%)\")\n"
   ]
  },
  {
   "cell_type": "code",
   "execution_count": null,
   "metadata": {},
   "outputs": [],
   "source": [
    "plot_confusion_matrix(y_predRF, y_test, 'Matriz de Confusión - random forest')"
   ]
  },
  {
   "cell_type": "code",
   "execution_count": null,
   "metadata": {},
   "outputs": [],
   "source": [
    "plot_confusion_matrix(y_predSDG, y_test, 'Matriz de Confusión - SDG')"
   ]
  },
  {
   "cell_type": "code",
   "execution_count": null,
   "metadata": {},
   "outputs": [],
   "source": [
    "plot_confusion_matrix(y_predSVM, y_test, 'Matriz de Confusión - SVM')"
   ]
  },
  {
   "cell_type": "markdown",
   "metadata": {},
   "source": [
    "Analizando los resultados obtenidos(las validaciones cruzadas de cada modelo, las metricas y las matrices de confusión realizadas), podemos decir que el modelo de machine learning que usaremos para poder clasificar los casos de Dengue en alarmantes y no alarmantes, sera el ***RandomForest***. Es el modelo que más parece captar la naturaleza del dataset, y más se ajusta a lo esperado. "
   ]
  },
  {
   "cell_type": "markdown",
   "metadata": {},
   "source": [
    "# ***Validación del modelo***"
   ]
  },
  {
   "cell_type": "code",
   "execution_count": 43,
   "metadata": {},
   "outputs": [],
   "source": [
    "y_pred_validation_rf = rf_model.predict(x_validation_normalized)"
   ]
  },
  {
   "cell_type": "code",
   "execution_count": null,
   "metadata": {},
   "outputs": [],
   "source": [
    "data_validation['pred_clasfinal_rf'] = y_pred_validation_rf\n",
    "\n",
    "\n",
    "# Guardar las predicciones en un archivo\n",
    "validation_with_predictions = DIR_DATA + 'Casos_de_Dengue_validation_with_predictions.csv'\n",
    "data_validation.to_csv(validation_with_predictions, index=False)\n",
    "\n",
    "print(f\"Predicciones guardadas en: {validation_with_predictions}\")"
   ]
  },
  {
   "cell_type": "code",
   "execution_count": null,
   "metadata": {},
   "outputs": [],
   "source": [
    "import matplotlib.pyplot as plt\n",
    "\n",
    "# Obtener los valores y las proporciones\n",
    "values = data_validation['pred_clasfinal_rf'].value_counts(normalize=True)\n",
    "\n",
    "# Crear el gráfico de barras\n",
    "plt.figure(figsize=(8, 5))\n",
    "values.plot(kind='bar', color='skyblue', alpha=0.7)\n",
    "\n",
    "# Personalizar el gráfico\n",
    "plt.title('Distribución de Predicciones (RF)', fontsize=14)\n",
    "plt.xlabel('Clases Predichas', fontsize=12)\n",
    "plt.ylabel('Proporción', fontsize=12)\n",
    "plt.xticks(rotation=0, fontsize=10)\n",
    "plt.grid(axis='y', linestyle='--', alpha=0.7)\n",
    "\n",
    "# Mostrar el gráfico\n",
    "plt.tight_layout()\n",
    "plt.show()\n"
   ]
  },
  {
   "cell_type": "code",
   "execution_count": 46,
   "metadata": {},
   "outputs": [],
   "source": [
    "RF_model_accuracy = accuracy_score(y_validation,y_pred_validation_rf)\n",
    "RF_precision = precision_score(y_validation,y_pred_validation_rf)\n",
    "RF_recall = recall_score(y_validation,y_pred_validation_rf)\n",
    "RF_f1 = f1_score(y_validation,y_pred_validation_rf)"
   ]
  },
  {
   "cell_type": "code",
   "execution_count": null,
   "metadata": {},
   "outputs": [],
   "source": [
    "import matplotlib.pyplot as plt\n",
    "\n",
    "# Valores de las métricas (reemplazar con tus valores si no son variables)\n",
    "metrics = {\n",
    "    'Accuracy': RF_model_accuracy,\n",
    "    'Precision': RF_precision,\n",
    "    'Recall': RF_recall,\n",
    "    'F1 Score': RF_f1\n",
    "}\n",
    "\n",
    "# Crear el gráfico de barras\n",
    "plt.figure(figsize=(8, 5))\n",
    "plt.bar(metrics.keys(), metrics.values(), color='skyblue', alpha=0.8)\n",
    "\n",
    "# Personalizar el gráfico\n",
    "plt.title('Evaluación del Modelo Random Forest', fontsize=14)\n",
    "plt.xlabel('Métricas', fontsize=12)\n",
    "plt.ylabel('Valores', fontsize=12)\n",
    "plt.ylim(0, 1.1)  # Escala para métricas entre 0 y 1\n",
    "plt.xticks(fontsize=10)\n",
    "plt.yticks(fontsize=10)\n",
    "plt.grid(axis='y', linestyle='--', alpha=0.7)\n",
    "\n",
    "# Añadir etiquetas de valor en las barras\n",
    "for i, (metric, value) in enumerate(metrics.items()):\n",
    "    plt.text(i, value + 0.02, f\"{value:.2f}\", ha='center', fontsize=10)\n",
    "\n",
    "# Mostrar el gráfico\n",
    "plt.tight_layout()\n",
    "plt.show()\n"
   ]
  },
  {
   "cell_type": "markdown",
   "metadata": {},
   "source": [
    "# ***Analisis de Resultados***"
   ]
  },
  {
   "cell_type": "markdown",
   "metadata": {},
   "source": [
    "El dataset usado para validar el modelo, arrojo los siguientes resultados:\n",
    "\n",
    "- 51% de los casos de Dengue presenta sintomas alarmantes; el 48% restante presenta sintomas no alarmantes.\n",
    "- El modelo arrojo una exactitud del 92% y una precisión del 88%, delatando así las buenas predicciónes que esta haciendo el modelo.\n",
    "\n",
    "Un modelo hecho para la predicción de casos alarmantes de Dengue y para ayudar a mitigar el traumatismo que puede generar dicha enfermedad. "
   ]
  },
  {
   "cell_type": "code",
   "execution_count": null,
   "metadata": {},
   "outputs": [],
   "source": [
    "data_validation.columns"
   ]
  },
  {
   "cell_type": "code",
   "execution_count": 49,
   "metadata": {},
   "outputs": [],
   "source": [
    "symptom_cols = [\n",
    "    'fiebre', 'cefalea', 'dolrretroo', 'malgias', 'artralgia', 'erupcionr', \n",
    "    'dolor_abdo', 'vomito', 'diarrea', 'hipotensio', 'hepatomeg', 'hem_mucosa', \n",
    "    'hipotermia', 'aum_hemato', 'caida_plaq', 'acum_liqui'\n",
    "]"
   ]
  },
  {
   "cell_type": "code",
   "execution_count": 50,
   "metadata": {},
   "outputs": [],
   "source": [
    "clasfinal_1 = data_validation[data_validation['clasfinal'] == 1]\n",
    "clasfinal_0 = data_validation[data_validation['clasfinal'] == 0]"
   ]
  },
  {
   "cell_type": "code",
   "execution_count": 51,
   "metadata": {},
   "outputs": [],
   "source": [
    "userAlarming = clasfinal_1.iloc[0]\n",
    "userNoAlarming = clasfinal_0.iloc[0]"
   ]
  },
  {
   "cell_type": "code",
   "execution_count": 52,
   "metadata": {},
   "outputs": [],
   "source": [
    "user_symptom = userAlarming[symptom_cols]"
   ]
  },
  {
   "cell_type": "code",
   "execution_count": null,
   "metadata": {},
   "outputs": [],
   "source": [
    "user_symptom"
   ]
  },
  {
   "cell_type": "code",
   "execution_count": null,
   "metadata": {},
   "outputs": [],
   "source": [
    "symptomsUserAlarming = user_symptom[user_symptom == 1].index.tolist()  \n",
    "\n",
    "symptomsUserAlarming"
   ]
  },
  {
   "cell_type": "code",
   "execution_count": null,
   "metadata": {},
   "outputs": [],
   "source": [
    "user_symptom = userNoAlarming[symptom_cols]\n",
    "symptomsUserNoAlarming= user_symptom[user_symptom == 1].index.tolist()  \n",
    "\n",
    "symptomsUserNoAlarming"
   ]
  },
  {
   "cell_type": "code",
   "execution_count": null,
   "metadata": {},
   "outputs": [],
   "source": [
    "user_symptom"
   ]
  },
  {
   "cell_type": "code",
   "execution_count": 56,
   "metadata": {},
   "outputs": [],
   "source": [
    "API_KEY = System.getenv(\"API_KEY\")\n",
    "MODEL_NAME = \"claude-3-haiku-20240307\""
   ]
  },
  {
   "cell_type": "code",
   "execution_count": 57,
   "metadata": {},
   "outputs": [],
   "source": [
    "client = anthropic.Anthropic(api_key=API_KEY)\n",
    "\n",
    "def get_completion(prompt: str, system_prompt=\"\"):\n",
    "    message = client.messages.create(\n",
    "        model=MODEL_NAME,\n",
    "        max_tokens=2000,\n",
    "        temperature=0.0,\n",
    "        system=system_prompt,\n",
    "        messages=[\n",
    "          {\"role\": \"user\", \"content\": prompt}\n",
    "        ]\n",
    "    )\n",
    "    return message.content[0].text"
   ]
  },
  {
   "cell_type": "code",
   "execution_count": 58,
   "metadata": {},
   "outputs": [],
   "source": [
    "predict_model_userAlarming = userAlarming['pred_clasfinal_rf']"
   ]
  },
  {
   "cell_type": "code",
   "execution_count": 59,
   "metadata": {},
   "outputs": [],
   "source": [
    "predict_model_UserNoAlarming = userNoAlarming['pred_clasfinal_rf']"
   ]
  },
  {
   "cell_type": "code",
   "execution_count": 60,
   "metadata": {},
   "outputs": [],
   "source": [
    "symptoms = {\n",
    "    'fiebre': 'fiebre',\n",
    "    'cefalea': 'dolor de cabeza',\n",
    "    'dolrretroo': 'dolor retroocular',\n",
    "    'malgias': 'malestar general',\n",
    "    'artralgia': 'dolor articular',\n",
    "    'erupcionr': 'erupción en la piel',\n",
    "    'dolor_abdo': 'dolor abdominal',\n",
    "    'vomito': 'vómitos',\n",
    "    'diarrea': 'diarrea',\n",
    "    'hipotensio': 'hipotensión',\n",
    "    'hepatomeg': 'hepatomegalia',\n",
    "    'hem_mucosa': 'hemorragia en mucosas',\n",
    "    'hipotermia': 'hipotermia',\n",
    "    'aum_hemato': 'aumento de hematocrito',\n",
    "    'caida_plaq': 'caída de plaquetas',\n",
    "    'acum_liqui': 'acumulación de líquidos'\n",
    "}"
   ]
  },
  {
   "cell_type": "code",
   "execution_count": 61,
   "metadata": {},
   "outputs": [],
   "source": [
    "def dataR(predict_model) -> str:\n",
    "        \n",
    "    if predict_model == 1:\n",
    "        return \"con sintomas de alarma\"\n",
    "    else:\n",
    "        return \"sin sintomas de alarma\"\n",
    "        "
   ]
  },
  {
   "cell_type": "code",
   "execution_count": 62,
   "metadata": {},
   "outputs": [],
   "source": [
    "symptomsUserAlarming = [symptoms[sintoma] for sintoma in symptomsUserAlarming] "
   ]
  },
  {
   "cell_type": "code",
   "execution_count": 63,
   "metadata": {},
   "outputs": [],
   "source": [
    "symptomsUserNoAlarming = [symptoms[sintoma] for sintoma in symptomsUserNoAlarming] "
   ]
  },
  {
   "cell_type": "code",
   "execution_count": null,
   "metadata": {},
   "outputs": [],
   "source": [
    "SYSTEM_PROMPT = (\n",
    "    \"Chat, tienes un paciente con dengue. Antes de que acuda al médico, \"\n",
    "    \"proporciona una lista de recomendaciones y restricciones específicas para el paciente \"\n",
    "    \"en función de los síntomas presentados. Asegúrate de incluir indicaciones claras sobre \"\n",
    "    \"alimentos recomendados y alimentos que debe evitar, así como restricciones relacionadas \"\n",
    "    \"con actividades físicas o o cualquier sintoma al que se debe tener precaucion. Si mencionas medicamentos, \"\n",
    "    \"indica claramente que deben ser administrados bajo supervisión médica. La respuesta debe \"\n",
    "    \"estar estructurada y únicamente contener las recomendaciones y restricciones, sin incluir \"\n",
    "    \"justificaciones adicionales o explicaciones innecesarias.\"\n",
    ")\n",
    "\n",
    "\n",
    "PROMPT = f\"El paciente tiene dengue  {dataR(predict_model_userAlarming)} y tiene lo siguientes sintomas: {symptomsUserAlarming} \"\n",
    "response_alarming =get_completion(PROMPT, SYSTEM_PROMPT)\n",
    "print(response_alarming)"
   ]
  },
  {
   "cell_type": "code",
   "execution_count": null,
   "metadata": {},
   "outputs": [],
   "source": [
    "SYSTEM_PROMPT = (\n",
    "    \"Chat, tienes un paciente con dengue. Antes de que acuda al médico, \"\n",
    "    \"proporciona una lista de recomendaciones y restricciones específicas para el paciente \"\n",
    "    \"en función de los síntomas presentados. Asegúrate de incluir indicaciones claras sobre \"\n",
    "    \"alimentos recomendados y alimentos que debe evitar, así como restricciones relacionadas \"\n",
    "    \"con actividades físicas o cualquier sintoma al que se debe tener precaucion. Si mencionas medicamentos, \"\n",
    "    \"indica claramente que deben ser administrados bajo supervisión médica. La respuesta debe \"\n",
    "    \"estar estructurada y únicamente contener las recomendaciones y restricciones, sin incluir \"\n",
    "    \"justificaciones adicionales o explicaciones innecesarias.\"\n",
    ")\n",
    "\n",
    "PROMPT = (\n",
    "    f\"El paciente tiene dengue identificado mediante {dataR(predict_model_UserNoAlarming)} \"\n",
    "    f\"y presenta los siguientes síntomas: {symptomsUserNoAlarming}. \"\n",
    "    \"Proporciona recomendaciones y restricciones para este caso.\"\n",
    "    )\n",
    "response_no_alarming = get_completion(PROMPT, SYSTEM_PROMPT)\n",
    "print(response_no_alarming)"
   ]
  },
  {
   "cell_type": "markdown",
   "metadata": {},
   "source": [
    "***Función para generar el PDF***"
   ]
  },
  {
   "cell_type": "code",
   "execution_count": 124,
   "metadata": {},
   "outputs": [],
   "source": [
    "def generar_pdf(nombre_archivo, contenido, paciente, edad):\n",
    "    \"\"\"\n",
    "    Genera un archivo PDF con el contenido dado en un formato de informe formal.\n",
    "    Args:\n",
    "        nombre_archivo (str): Nombre del archivo PDF.\n",
    "        contenido (str): Texto a incluir en el PDF.\n",
    "        paciente (str): Nombre del paciente.\n",
    "        edad (int): Edad del paciente.\n",
    "    \"\"\"\n",
    "    c = canvas.Canvas(nombre_archivo, pagesize=letter)\n",
    "    width, height = letter\n",
    "\n",
    "    \n",
    "    margen_x, margen_y = 50, 50\n",
    "    line_height = 14\n",
    "    max_chars_per_line = 90\n",
    "    x, y = margen_x + 10, height - margen_y - 20\n",
    "\n",
    "    \n",
    "    c.setStrokeColor(black)\n",
    "    c.setFillColor(white)\n",
    "    c.rect(margen_x - 10, margen_y - 10, width - 2 * margen_x + 20, height - 2 * margen_y + 20, stroke=1, fill=1)\n",
    "\n",
    " \n",
    "    c.setFont(\"Times-Bold\", 18)\n",
    "    c.setFillColor(black)\n",
    "    c.drawString(margen_x, height - margen_y - 40, \"Sistema de predicciones de casos de dengue\")\n",
    "    c.drawImage(\"mosquito.png\", width - margen_x - 80, height - margen_y - 70, width=80, height=50, mask='auto')\n",
    "\n",
    "    \n",
    "    c.setFont(\"Times-Roman\", 12)\n",
    "    fecha_actual = date.today().strftime(\"%d/%m/%Y\")\n",
    "    c.drawString(margen_x, height - margen_y - 90, f\"Paciente: {paciente}\")\n",
    "    c.drawString(margen_x, height - margen_y - 110, f\"Edad: {edad} años\")\n",
    "    c.drawString(margen_x, height - margen_y - 130, f\"Fecha: {fecha_actual}\")\n",
    "\n",
    "    \n",
    "    c.line(margen_x + 10, height - margen_y - 140, width - margen_x - 35, height - margen_y - 140)\n",
    "\n",
    "    \n",
    "    y = height - margen_y - 160\n",
    "    for linea in contenido.split(\"\\n\"):\n",
    "        while len(linea) > max_chars_per_line:\n",
    "            fragmento = linea[:max_chars_per_line]\n",
    "            c.drawString(x, y, fragmento)\n",
    "            linea = linea[max_chars_per_line:]\n",
    "            y -= line_height\n",
    "\n",
    "            \n",
    "            if y < margen_y + 30:\n",
    "                c.showPage()\n",
    "                c.setStrokeColor(black)\n",
    "                c.setFillColor(white)\n",
    "                c.rect(margen_x - 10, margen_y - 10, width - 2 * margen_x + 20, height - 2 * margen_y + 20, stroke=1, fill=1)\n",
    "                c.setFont(\"Times-Roman\", 12)\n",
    "                y = height - margen_y - 20\n",
    "\n",
    "        c.drawString(x, y, linea)\n",
    "        y -= line_height\n",
    "\n",
    "        \n",
    "        if y < margen_y + 30:\n",
    "            c.showPage()\n",
    "            c.setStrokeColor(black)\n",
    "            c.setFillColor(white)\n",
    "            c.rect(margen_x - 10, margen_y - 10, width - 2 * margen_x + 20, height - 2 * margen_y + 20, stroke=1, fill=1)\n",
    "            c.setFont(\"Times-Roman\", 12)\n",
    "            y = height - margen_y - 20\n",
    "\n",
    "    \n",
    "    y -= line_height * 2 \n",
    "    c.setFont(\"Times-Italic\", 10)\n",
    "    c.setFillColor(black)\n",
    "    footer_text = (\n",
    "        \"Estas recomendaciones son provisionales y aplican en caso de no tener acceso inmediato a un médico. \"\n",
    "        \"Se recomienda encarecidamente acudir a un profesional de la salud para una evaluación adecuada.\"\n",
    "    )\n",
    "    \n",
    "    footer_lines = []\n",
    "    while footer_text:\n",
    "        if len(footer_text) > max_chars_per_line:\n",
    "            split_index = footer_text.rfind(' ', 0, max_chars_per_line)\n",
    "            if split_index == -1:\n",
    "                split_index = max_chars_per_line\n",
    "            footer_lines.append(footer_text[:split_index])\n",
    "            footer_text = footer_text[split_index:].strip()\n",
    "        else:\n",
    "            footer_lines.append(footer_text)\n",
    "            footer_text = \"\"\n",
    "\n",
    "    for footer_line in footer_lines:\n",
    "        c.drawString(margen_x, y, footer_line)\n",
    "        y -= line_height\n",
    "\n",
    "  \n",
    "    c.save()\n"
   ]
  },
  {
   "cell_type": "code",
   "execution_count": null,
   "metadata": {},
   "outputs": [],
   "source": [
    "nombre_pdf_alarming = \"Paciente_Alarmante.pdf\"\n",
    "generar_pdf(nombre_pdf_alarming, f\"{response_alarming}\",\"paciente\",userAlarming[\"edad_\"])\n",
    "print(f\"PDF generado: {nombre_pdf_alarming}\")"
   ]
  },
  {
   "cell_type": "code",
   "execution_count": null,
   "metadata": {},
   "outputs": [],
   "source": [
    "nombre_pdf_no_alarming = \"Paciente_No_Alarmante.pdf\"\n",
    "generar_pdf(nombre_pdf_no_alarming, f\"{response_no_alarming}\",\"paciente\",userNoAlarming[\"edad_\"])\n",
    "print(f\"PDF generado: {nombre_pdf_no_alarming}\")"
   ]
  }
 ],
 "metadata": {
  "kernelspec": {
   "display_name": "Python 3",
   "language": "python",
   "name": "python3"
  },
  "language_info": {
   "codemirror_mode": {
    "name": "ipython",
    "version": 3
   },
   "file_extension": ".py",
   "mimetype": "text/x-python",
   "name": "python",
   "nbconvert_exporter": "python",
   "pygments_lexer": "ipython3",
   "version": "3.12.5"
  }
 },
 "nbformat": 4,
 "nbformat_minor": 2
}
